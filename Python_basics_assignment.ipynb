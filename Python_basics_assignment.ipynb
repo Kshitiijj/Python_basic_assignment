{
 "cells": [
  {
   "cell_type": "code",
   "execution_count": 11,
   "id": "7be95fbf-a1a1-42fe-9746-cda53fed863b",
   "metadata": {},
   "outputs": [
    {
     "ename": "SyntaxError",
     "evalue": "invalid character '’' (U+2019) (2012783453.py, line 18)",
     "output_type": "error",
     "traceback": [
      "\u001b[1;36m  Cell \u001b[1;32mIn[11], line 18\u001b[1;36m\u001b[0m\n\u001b[1;33m    Mutability refers to whether an object’s content can be changed after it is created.\u001b[0m\n\u001b[1;37m                                          ^\u001b[0m\n\u001b[1;31mSyntaxError\u001b[0m\u001b[1;31m:\u001b[0m invalid character '’' (U+2019)\n"
     ]
    }
   ],
   "source": [
    "#Q.1) What is Python, and why is it popular?\n",
    "\n",
    "   '''Python is a versatile, high-level programming language known for its simplicity and readability. \n",
    "      It is widely used for web development, data analysis, artificial intelligence, machine learning, and more, with extensive libraries and \n",
    "      a supportive community.'''\n",
    "\n",
    "#Q.2) What is an interpreter in Python?\n",
    "\n",
    "    '''An interpreter executes Python code line by line, converting it into machine-readable instructions. \n",
    "       It allows for easier debugging and quick testing of code.'''\n",
    "\n",
    "#Q.3) What are pre-defined keywords in Python?\n",
    "\n",
    "   '''Keywords are reserved words in Python like if, else, for, while, and import. \n",
    "       These have specific meanings and cannot be used as identifiers or variable names.'''\n",
    "\n",
    "#Q.4) Can keywords be used as variable names?\n",
    " \n",
    "    '''No, Python keywords cannot be used as variable names as they are reserved for special purposes in the language syntax.'''\n",
    "\n",
    "#Q.5) What is mutability in Python?\n",
    "   \n",
    "    '''Mutability refers to whether an object’s content can be changed after it is created. \n",
    "        Lists are mutable (can change), while strings and tuples are immutable (cannot change).'''\n",
    "\n",
    "#Q.6) Why are lists mutable, but tuples are immutable?\n",
    "    \n",
    "    '''Lists are designed for dynamic data and allow modifications, while tuples are intended for fixed, \n",
    "        constant collections to ensure safety and performance.'''\n",
    "\n",
    "#Q.7) What is the difference between == and is operators in Python?\n",
    "    \n",
    "    '''The == operator checks if the values of two objects are equal, \n",
    "        while the is operator checks if two objects refer to the same memory location (object identity).'''\n",
    "\n",
    "#Q.8) What are logical operators in Python?\n",
    "    \n",
    "    '''Logical operators are used to combine or negate conditions:\n",
    "    \n",
    "      and: Returns True if both conditions are true.\n",
    "      or: Returns True if at least one condition is true.\n",
    "      not: Reverses the truth value of a condition.'''\n",
    "\n",
    "#Q.9) What is type casting in Python?\n",
    "    \n",
    "     '''Type casting converts data from one type to another, such as converting a string to an integer (int(\"123\")) or a float to an integer (int(12.34)).'''\n",
    "\n",
    "#Q.10) What is the difference between implicit and explicit type casting?\n",
    "\n",
    "   \n",
    "   '''Implicit casting is automatically performed by Python, such as converting an integer to a float in mixed operations.\n",
    "      Explicit casting is done manually by the programmer, like using str(123) to convert an integer to a string.'''\n",
    "\n",
    "#Q.11) What is the purpose of conditional statements in Python?\n",
    "    \n",
    "    '''Conditional statements allow decision-making in programs by executing specific blocks of code based on whether \n",
    "       conditions are true or false (e.g., if, elif, else).'''\n",
    "\n",
    "#Q.12) How does the elif statement work?\n",
    "    \n",
    "    '''The elif statement checks additional conditions if the initial if condition is false. It avoids the need for nested if statements.'''\n",
    "\n",
    "#Q.13) What is the difference between for and while loops?\n",
    "\n",
    "    '''For loops are used for iterating over a sequence (e.g., lists, strings, ranges).\n",
    "       While loops are used when the number of iterations depends on a condition being true.'''\n",
    "\n",
    "#Q.14)Describe a scenario where a while loop is more suitable than a for loop.\n",
    "   \n",
    "    '''A while loop is ideal when the number of iterations is unknown, \n",
    "    such as waiting for user input or monitoring a sensor value until a specific condition is met.'''"
   ]
  },
  {
   "cell_type": "code",
   "execution_count": 13,
   "id": "1304d2c9-a36a-40c1-b78d-7641934ab5f8",
   "metadata": {},
   "outputs": [],
   "source": [
    "#Practical Questions"
   ]
  },
  {
   "cell_type": "code",
   "execution_count": 15,
   "id": "de2d52df-fcb0-4c64-91b5-0b895094b87c",
   "metadata": {},
   "outputs": [
    {
     "name": "stdout",
     "output_type": "stream",
     "text": [
      "Hello, World!\n"
     ]
    }
   ],
   "source": [
    "#Q1. Write a Python program to print \"Hello, World!\"\n",
    "print(\"Hello, World!\")\n"
   ]
  },
  {
   "cell_type": "code",
   "execution_count": 19,
   "id": "58c44398-2d48-440d-a650-a822adb770ad",
   "metadata": {},
   "outputs": [
    {
     "name": "stdout",
     "output_type": "stream",
     "text": [
      "My name is Kshitij and I am 20 years old.\n"
     ]
    }
   ],
   "source": [
    "#Q2. Write a Python program that displays your name and age.\n",
    "name = \"Kshitij\"\n",
    "age = 20\n",
    "print(f\"My name is {name} and I am {age} years old.\")\n",
    "\n"
   ]
  },
  {
   "cell_type": "code",
   "execution_count": 21,
   "id": "dcf0dfaa-4b83-4cb1-8dde-f5f2b8684e12",
   "metadata": {},
   "outputs": [
    {
     "name": "stdout",
     "output_type": "stream",
     "text": [
      "['False', 'None', 'True', 'and', 'as', 'assert', 'async', 'await', 'break', 'class', 'continue', 'def', 'del', 'elif', 'else', 'except', 'finally', 'for', 'from', 'global', 'if', 'import', 'in', 'is', 'lambda', 'nonlocal', 'not', 'or', 'pass', 'raise', 'return', 'try', 'while', 'with', 'yield']\n"
     ]
    }
   ],
   "source": [
    "#Q3. Write code to print all the pre-defined keywords in Python using the keyword library.\n",
    "import keyword\n",
    "print(keyword.kwlist)\n"
   ]
  },
  {
   "cell_type": "code",
   "execution_count": 23,
   "id": "61f5e8a2-48ee-46c2-8b59-3d2cd61c4b9b",
   "metadata": {},
   "outputs": [
    {
     "name": "stdin",
     "output_type": "stream",
     "text": [
      "Enter a word:  import\n"
     ]
    },
    {
     "name": "stdout",
     "output_type": "stream",
     "text": [
      "'import' is a Python keyword.\n"
     ]
    }
   ],
   "source": [
    "#Q4. Write a program that checks if a given word is a Python keyword.\n",
    "import keyword\n",
    "word = input(\"Enter a word: \")\n",
    "if keyword.iskeyword(word):\n",
    "    print(f\"'{word}' is a Python keyword.\")\n",
    "else:\n",
    "    print(f\"'{word}' is not a Python keyword.\")\n"
   ]
  },
  {
   "cell_type": "code",
   "execution_count": 25,
   "id": "5910e094-9305-43e8-a616-51590a469ed1",
   "metadata": {},
   "outputs": [
    {
     "name": "stdout",
     "output_type": "stream",
     "text": [
      "Modified list: [10, 2, 3]\n",
      "Cannot modify a tuple!\n"
     ]
    }
   ],
   "source": [
    "#Q5. Create a list and tuple in Python, and demonstrate how attempting to change an element works differently for each.\n",
    "# List (Mutable)\n",
    "my_list = [1, 2, 3]\n",
    "my_list[0] = 10\n",
    "print(\"Modified list:\", my_list)\n",
    "\n",
    "# Tuple (Immutable)\n",
    "my_tuple = (1, 2, 3)\n",
    "try:\n",
    "    my_tuple[0] = 10\n",
    "except TypeError:\n",
    "    print(\"Cannot modify a tuple!\")\n",
    "\n"
   ]
  },
  {
   "cell_type": "code",
   "execution_count": 27,
   "id": "afc78af5-6020-40a6-bf9c-e61567cd8ec5",
   "metadata": {},
   "outputs": [
    {
     "name": "stdout",
     "output_type": "stream",
     "text": [
      "Modified list: [1, 2, 3, 4]\n"
     ]
    }
   ],
   "source": [
    "#Q6. Write a function to demonstrate the behavior of mutable arguments.\n",
    "def modify_list(lst):\n",
    "    lst.append(4)\n",
    "\n",
    "my_list = [1, 2, 3]\n",
    "modify_list(my_list)\n",
    "print(\"Modified list:\", my_list)\n"
   ]
  },
  {
   "cell_type": "code",
   "execution_count": 29,
   "id": "fb7d56fa-06d6-4d74-a931-e780b22fe3c5",
   "metadata": {},
   "outputs": [
    {
     "name": "stdout",
     "output_type": "stream",
     "text": [
      "Original number: 5\n"
     ]
    }
   ],
   "source": [
    "#Q7. Write a function to demonstrate the behavior of immutable arguments.\n",
    "def modify_number(num):\n",
    "    num += 10\n",
    "\n",
    "my_num = 5\n",
    "modify_number(my_num)\n",
    "print(\"Original number:\", my_num)  # No change\n"
   ]
  },
  {
   "cell_type": "code",
   "execution_count": 31,
   "id": "7975ceb6-a495-42d2-ae7a-62a58f4cdfaf",
   "metadata": {},
   "outputs": [
    {
     "name": "stdout",
     "output_type": "stream",
     "text": [
      "x and y: False\n",
      "x or y: True\n",
      "not x: False\n"
     ]
    }
   ],
   "source": [
    "#Q8. Write a program to demonstrate the use of logical operators.\n",
    "x, y = True, False\n",
    "print(\"x and y:\", x and y)\n",
    "print(\"x or y:\", x or y)\n",
    "print(\"not x:\", not x)\n"
   ]
  },
  {
   "cell_type": "code",
   "execution_count": 35,
   "id": "cde34bef-7851-45fb-9b97-65dbac839a29",
   "metadata": {},
   "outputs": [
    {
     "name": "stdin",
     "output_type": "stream",
     "text": [
      "Enter a value:  12\n"
     ]
    },
    {
     "name": "stdout",
     "output_type": "stream",
     "text": [
      "String: 12\n",
      "Integer: 12\n",
      "Float: 12.0\n",
      "Boolean: True\n"
     ]
    }
   ],
   "source": [
    "#Q9.  Write a Python program to convert user input from string to integer, float, and boolean types.\n",
    "user_input = input(\"Enter a value: \")\n",
    "print(\"String:\", user_input)\n",
    "print(\"Integer:\", int(user_input))\n",
    "print(\"Float:\", float(user_input))\n",
    "print(\"Boolean:\", bool(user_input))\n",
    "\n",
    "\n"
   ]
  },
  {
   "cell_type": "code",
   "execution_count": 37,
   "id": "2f4455f8-0f8a-4aa4-badd-07c5ea9a5451",
   "metadata": {},
   "outputs": [
    {
     "name": "stdout",
     "output_type": "stream",
     "text": [
      "Type-casted list: [1, 2, 3]\n"
     ]
    }
   ],
   "source": [
    "#Q10. Write code to demonstrate type casting with list elements.\n",
    "numbers = [\"1\", \"2\", \"3\"]\n",
    "numbers = [int(num) for num in numbers]\n",
    "print(\"Type-casted list:\", numbers)\n"
   ]
  },
  {
   "cell_type": "code",
   "execution_count": 39,
   "id": "f18f7632-62f4-4488-bf5e-061b7a8f4921",
   "metadata": {},
   "outputs": [
    {
     "name": "stdin",
     "output_type": "stream",
     "text": [
      "Enter a number:  5\n"
     ]
    },
    {
     "name": "stdout",
     "output_type": "stream",
     "text": [
      "The number is positive.\n"
     ]
    }
   ],
   "source": [
    "#Q11.  Write a program that checks if a number is positive, negative, or zero.\n",
    "num = int(input(\"Enter a number: \"))\n",
    "if num > 0:\n",
    "    print(\"The number is positive.\")\n",
    "elif num < 0:\n",
    "    print(\"The number is negative.\")\n",
    "else:\n",
    "    print(\"The number is zero.\")\n"
   ]
  },
  {
   "cell_type": "code",
   "execution_count": 43,
   "id": "f78ed26f-4ab5-4b0f-9193-a1f00bf08e1b",
   "metadata": {},
   "outputs": [
    {
     "name": "stdout",
     "output_type": "stream",
     "text": [
      "1\n",
      "2\n",
      "3\n",
      "4\n",
      "5\n",
      "6\n",
      "7\n",
      "8\n",
      "9\n",
      "10\n"
     ]
    }
   ],
   "source": [
    "#Q12. Write a for loop to print numbers from 1 to 10.\n",
    "for i in range(1, 11):\n",
    "    print(i)\n"
   ]
  },
  {
   "cell_type": "code",
   "execution_count": 45,
   "id": "6cd6b6e2-67a3-4848-944e-16e20b816ae4",
   "metadata": {},
   "outputs": [
    {
     "name": "stdout",
     "output_type": "stream",
     "text": [
      "Sum of even numbers: 650\n"
     ]
    }
   ],
   "source": [
    "#Q13. Write a Python program to find the sum of all even numbers between 1 and 50.\n",
    "even_sum = sum(i for i in range(1, 51) if i % 2 == 0)\n",
    "print(\"Sum of even numbers:\", even_sum)\n",
    "\n"
   ]
  },
  {
   "cell_type": "code",
   "execution_count": 47,
   "id": "67084d8a-441a-4c26-8d48-4f1c8a1411c2",
   "metadata": {},
   "outputs": [
    {
     "name": "stdin",
     "output_type": "stream",
     "text": [
      "Enter a string:  Kshitij\n"
     ]
    },
    {
     "name": "stdout",
     "output_type": "stream",
     "text": [
      "Reversed string: jitihsK\n"
     ]
    }
   ],
   "source": [
    "#Q14. Write a program to reverse a string using a while loop.\n",
    "string = input(\"Enter a string: \")\n",
    "reversed_string = \"\"\n",
    "index = len(string) - 1\n",
    "\n",
    "while index >= 0:\n",
    "    reversed_string += string[index]\n",
    "    index -= 1\n",
    "\n",
    "print(\"Reversed string:\", reversed_string)\n"
   ]
  },
  {
   "cell_type": "code",
   "execution_count": null,
   "id": "01822ff4-46e9-4bed-a9d4-92b63b927572",
   "metadata": {},
   "outputs": [],
   "source": [
    "#Q15. "
   ]
  }
 ],
 "metadata": {
  "kernelspec": {
   "display_name": "Python 3 (ipykernel)",
   "language": "python",
   "name": "python3"
  },
  "language_info": {
   "codemirror_mode": {
    "name": "ipython",
    "version": 3
   },
   "file_extension": ".py",
   "mimetype": "text/x-python",
   "name": "python",
   "nbconvert_exporter": "python",
   "pygments_lexer": "ipython3",
   "version": "3.12.7"
  }
 },
 "nbformat": 4,
 "nbformat_minor": 5
}
